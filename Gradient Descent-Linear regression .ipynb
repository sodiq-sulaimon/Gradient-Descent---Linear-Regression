{
 "cells": [
  {
   "cell_type": "code",
   "execution_count": 1,
   "id": "8cbfd1f2",
   "metadata": {},
   "outputs": [],
   "source": [
    "import numpy as np\n",
    "import math"
   ]
  },
  {
   "cell_type": "code",
   "execution_count": 2,
   "id": "3a19959f",
   "metadata": {},
   "outputs": [],
   "source": [
    "x_train = np.array([1.0, 2.0])\n",
    "y_train = np.array([300.0, 500.0])"
   ]
  },
  {
   "cell_type": "code",
   "execution_count": 3,
   "id": "d9fc9704",
   "metadata": {},
   "outputs": [],
   "source": [
    "def compute_cost(x, y, w, b):\n",
    "    m = x.shape[0]\n",
    "    cost_sum = 0\n",
    "    for i in range(m):\n",
    "        f_wb = w * x[i] + b\n",
    "        cost = (f_wb - y[i]) ** 2\n",
    "        cost_sum += cost\n",
    "    total_cost = (1/ (2 * m)) * cost_sum\n",
    "    return total_cost"
   ]
  },
  {
   "cell_type": "code",
   "execution_count": 4,
   "id": "fdc9a13b",
   "metadata": {},
   "outputs": [],
   "source": [
    "def compute_gradient(x, y, w, b):\n",
    "    m = x.shape[0]\n",
    "    dj_dw = 0\n",
    "    dj_db = 0\n",
    "    for i in range(m):\n",
    "        f_wb = w * x[i] + b\n",
    "        dj_dw_i = (f_wb - y[i]) * x[i]\n",
    "        dj_db_i = f_wb - y[i]\n",
    "        dj_dw += dj_dw_i\n",
    "        dj_db += dj_db_i\n",
    "    dj_dw = dj_dw / m\n",
    "    dj_db = dj_db / m\n",
    "    \n",
    "    return dj_dw, dj_db"
   ]
  },
  {
   "cell_type": "code",
   "execution_count": 6,
   "id": "36666f0b",
   "metadata": {},
   "outputs": [],
   "source": [
    "def gradient_descent(x, y, w_in, b_in, alpha, num_iters, compute_cost, compute_gradient):\n",
    "    b = b_in\n",
    "    w = w_in\n",
    "        \n",
    "    for i in range(num_iters):\n",
    "        dj_dw, dj_db = compute_gradient(x, y, w, b)\n",
    "        b = b - alpha * dj_dw\n",
    "        w = w - alpha * dj_dw\n",
    "        \n",
    "            \n",
    "        if i% math.ceil(num_iters/10) == 0:\n",
    "            print(f\"dj_dw: {dj_dw: 0.3e}, dj_db: {dj_db: 0.3e}  \",\n",
    "                  f\"w: {w: 0.3e}, b:{b: 0.5e}\")\n",
    "    return w, b, "
   ]
  },
  {
   "cell_type": "code",
   "execution_count": 7,
   "id": "e1c3301e",
   "metadata": {},
   "outputs": [
    {
     "name": "stdout",
     "output_type": "stream",
     "text": [
      "dj_dw: -6.500e+02, dj_db: -4.000e+02   w:  6.500e+00, b: 6.50000e+00\n",
      "dj_dw: -1.364e-12, dj_db:  6.250e+00   w:  1.625e+02, b: 1.62500e+02\n",
      "dj_dw: -1.364e-12, dj_db:  6.250e+00   w:  1.625e+02, b: 1.62500e+02\n",
      "dj_dw: -1.364e-12, dj_db:  6.250e+00   w:  1.625e+02, b: 1.62500e+02\n",
      "dj_dw: -1.364e-12, dj_db:  6.250e+00   w:  1.625e+02, b: 1.62500e+02\n",
      "dj_dw: -1.364e-12, dj_db:  6.250e+00   w:  1.625e+02, b: 1.62500e+02\n",
      "dj_dw: -1.364e-12, dj_db:  6.250e+00   w:  1.625e+02, b: 1.62500e+02\n",
      "dj_dw: -1.364e-12, dj_db:  6.250e+00   w:  1.625e+02, b: 1.62500e+02\n",
      "dj_dw: -1.364e-12, dj_db:  6.250e+00   w:  1.625e+02, b: 1.62500e+02\n",
      "dj_dw: -1.364e-12, dj_db:  6.250e+00   w:  1.625e+02, b: 1.62500e+02\n",
      "(w,b) found by gradient descent: (162.5000,162.5000)\n"
     ]
    }
   ],
   "source": [
    "# initialize parameters\n",
    "w_init = 0\n",
    "b_init = 0\n",
    "# some gradient descent settings\n",
    "iterations = 10000\n",
    "tmp_alpha = 1.0e-2\n",
    "# run gradient descent\n",
    "w_final, b_final = gradient_descent(x_train ,y_train, w_init, b_init, tmp_alpha, \n",
    "                                                    iterations, compute_cost, compute_gradient)\n",
    "print(f\"(w,b) found by gradient descent: ({w_final:8.4f},{b_final:8.4f})\")"
   ]
  }
 ],
 "metadata": {
  "kernelspec": {
   "display_name": "Python 3 (ipykernel)",
   "language": "python",
   "name": "python3"
  },
  "language_info": {
   "codemirror_mode": {
    "name": "ipython",
    "version": 3
   },
   "file_extension": ".py",
   "mimetype": "text/x-python",
   "name": "python",
   "nbconvert_exporter": "python",
   "pygments_lexer": "ipython3",
   "version": "3.9.12"
  }
 },
 "nbformat": 4,
 "nbformat_minor": 5
}
